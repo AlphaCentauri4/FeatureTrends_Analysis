{
 "cells": [
  {
   "cell_type": "markdown",
   "id": "dde20aeb-56e9-4205-b21b-72749eecdeab",
   "metadata": {},
   "source": [
    "# Feature Trends Inquiry and Analysis\n",
    "\n",
    "**Objective:** Pinpoint trends in Ice Extent feature data and explain their nature"
   ]
  },
  {
   "cell_type": "markdown",
   "id": "051f6f3e-f4d6-465f-897c-8c7469a71d13",
   "metadata": {},
   "source": [
    "### 1 Pre-analysis preperation\n",
    "\n",
    "Import necessary libraries, organize data, declare relevant variables, average yearly data and condense into one row per year"
   ]
  },
  {
   "cell_type": "code",
   "execution_count": 31,
   "id": "0295f7b9-325c-4dbe-9339-86bce39ca76f",
   "metadata": {},
   "outputs": [
    {
     "name": "stderr",
     "output_type": "stream",
     "text": [
      "C:\\Users\\Louis Lapp\\AppData\\Local\\Temp\\ipykernel_19460\\3010108275.py:12: RuntimeWarning: overflow encountered in long_scalars\n",
      "  averages_array.append(sum(full_data.where(\"Year\", ds.are.equal_to(year)).column(feature)) / len(full_data.where(\"Year\", ds.are.equal_to(year)).column(feature)))\n"
     ]
    },
    {
     "data": {
      "text/html": [
       "<table border=\"1\" class=\"dataframe\">\n",
       "    <thead>\n",
       "        <tr>\n",
       "            <th>year</th> <th>wind_10m</th> <th>specific_humidity</th> <th>LW_down</th> <th>SW_down</th> <th>rainfall</th> <th>snowfall</th> <th>sosaline</th> <th>sst</th> <th>t2m</th> <th>surface_pressure</th> <th>sea_ice_extent</th>\n",
       "        </tr>\n",
       "    </thead>\n",
       "    <tbody>\n",
       "        <tr>\n",
       "            <td>1979</td> <td>5.07764 </td> <td>2.21866          </td> <td>237.497</td> <td>96.3341</td> <td>1.34656 </td> <td>0.70885 </td> <td>33.2524 </td> <td>274.36 </td> <td>263.532</td> <td>981.987         </td> <td>558760        </td>\n",
       "        </tr>\n",
       "        <tr>\n",
       "            <td>1980</td> <td>5.12035 </td> <td>2.24572          </td> <td>239.288</td> <td>96.7265</td> <td>1.28481 </td> <td>0.695901</td> <td>33.2624 </td> <td>274.489</td> <td>264.163</td> <td>982.866         </td> <td>599279        </td>\n",
       "        </tr>\n",
       "        <tr>\n",
       "            <td>1981</td> <td>5.18837 </td> <td>2.30067          </td> <td>243.107</td> <td>96.0786</td> <td>1.39369 </td> <td>0.760159</td> <td>33.246  </td> <td>274.363</td> <td>264.963</td> <td>981.639         </td> <td>362687        </td>\n",
       "        </tr>\n",
       "        <tr>\n",
       "            <td>1982</td> <td>5.1452  </td> <td>2.19611          </td> <td>237.621</td> <td>97.6215</td> <td>1.36295 </td> <td>0.738999</td> <td>33.2725 </td> <td>274.287</td> <td>263.673</td> <td>981.126         </td> <td>677983        </td>\n",
       "        </tr>\n",
       "    </tbody>\n",
       "</table>\n",
       "<p>... (36 rows omitted)</p>"
      ],
      "text/plain": [
       "<IPython.core.display.HTML object>"
      ]
     },
     "metadata": {},
     "output_type": "display_data"
    }
   ],
   "source": [
    "import matplotlib.pyplot as plt\n",
    "import datascience as ds\n",
    "import numpy as np\n",
    "features_list = [\"wind_10m\", \"specific_humidity\", \"LW_down\", \"SW_down\", \"rainfall\", \"snowfall\", \"sosaline\", \"sst\", \"t2m\", \"surface_pressure\", \"sea_ice_extent\"]\n",
    "\n",
    "full_data = ds.Table().read_table(\"Arctic_domain_mean_1979_2018_withYears.csv\")\n",
    "full_data_avg = ds.Table([\"year\"] + features_list)\n",
    "\n",
    "for year in range(min(full_data.column(\"Year\")), max(full_data.column(\"Year\")) + 1):\n",
    "    averages_array = []\n",
    "    for feature in features_list:\n",
    "        averages_array.append(sum(full_data.where(\"Year\", ds.are.equal_to(year)).column(feature)) / len(full_data.where(\"Year\", ds.are.equal_to(year)).column(feature)))\n",
    "    full_data_avg = full_data_avg.with_row([year] + averages_array)\n",
    "    averages_array = []\n",
    "full_data_avg.show(4)"
   ]
  },
  {
   "cell_type": "markdown",
   "id": "ff6f26f3-c46e-4da4-b303-a72ea7899db2",
   "metadata": {},
   "source": [
    "### 2 Graph trends"
   ]
  },
  {
   "cell_type": "code",
   "execution_count": 32,
   "id": "cadc0705-828a-4c63-9d86-7f851398d26e",
   "metadata": {},
   "outputs": [],
   "source": [
    "for feature in features_list:\n",
    "    full_data_avg.plot(\"year\", feature)\n",
    "    plt.title(feature)\n",
    "    plt.savefig(feature + \".png\")"
   ]
  }
 ],
 "metadata": {
  "kernelspec": {
   "display_name": "Python 3 (ipykernel)",
   "language": "python",
   "name": "python3"
  },
  "language_info": {
   "codemirror_mode": {
    "name": "ipython",
    "version": 3
   },
   "file_extension": ".py",
   "mimetype": "text/x-python",
   "name": "python",
   "nbconvert_exporter": "python",
   "pygments_lexer": "ipython3",
   "version": "3.9.6"
  }
 },
 "nbformat": 4,
 "nbformat_minor": 5
}
